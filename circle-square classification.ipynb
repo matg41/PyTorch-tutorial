{
 "cells": [
  {
   "cell_type": "code",
   "execution_count": 1,
   "id": "d5aec3d4",
   "metadata": {},
   "outputs": [],
   "source": [
    "import torch\n",
    "import cv2\n",
    "import numpy as np\n",
    "import random\n",
    "import matplotlib.pyplot as plt\n",
    "import os\n",
    "from pathlib import Path"
   ]
  },
  {
   "cell_type": "markdown",
   "id": "ab8e9800",
   "metadata": {},
   "source": [
    "## Problem: \n",
    "Generate 1000 samples. 500 circles and 500 square using opencv. Shape: 28, 28, 1\n",
    "Create a Model. CNN2d(32), CNN2d(64), Linear(128), Linear(2)\n",
    "activation: relu\n",
    "Bonus: Create squares and circles with different shapes"
   ]
  },
  {
   "cell_type": "markdown",
   "id": "cd6b974a",
   "metadata": {},
   "source": [
    "### Creating local directory to store dataset\n",
    "    dataset/ <- overall dataset folder\n",
    "        train/ <- training images\n",
    "            circle/ <- class names as folders\n",
    "                image01.png\n",
    "                image02.png\n",
    "                ...\n",
    "            square/\n",
    "                imagexx.png\n",
    "                ....\n",
    "        test/ <- testing images\n",
    "            circle/ <- class names as folders\n",
    "                imagexx.png\n",
    "                imagexx.png\n",
    "                ...\n",
    "            square/\n",
    "                imagexx.png\n",
    "                ...."
   ]
  },
  {
   "cell_type": "code",
   "execution_count": 2,
   "id": "0b8e2997",
   "metadata": {},
   "outputs": [],
   "source": [
    "over_dir = Path('dataset')\n",
    "train_dir = over_dir /'train'\n",
    "test_dir = over_dir /'test'\n",
    "classes_names = ['circle', 'square']\n",
    "if os.path.isdir(train_dir) == False:\n",
    "    os.makedirs(train_dir)\n",
    "if os.path.isdir(test_dir) == False:\n",
    "    os.makedirs(test_dir)\n",
    "for i in classes_names:\n",
    "    dir_path_train = train_dir / i\n",
    "    dir_path_test = test_dir / i\n",
    "    if os.path.isdir(dir_path_train) == False:\n",
    "        os.makedirs(dir_path_train)\n",
    "    if os.path.isdir(dir_path_test) == False:\n",
    "        os.makedirs(dir_path_test)"
   ]
  },
  {
   "cell_type": "markdown",
   "id": "ddafb3dd",
   "metadata": {},
   "source": [
    "## Generating images and saving to the cteated paths"
   ]
  },
  {
   "cell_type": "code",
   "execution_count": 3,
   "id": "db4456d9",
   "metadata": {},
   "outputs": [],
   "source": [
    "\n",
    "random.seed(42)\n",
    "\n",
    "\n",
    "for i in range(450):\n",
    "    # Create a 28*28 numpy array\n",
    "    arr = np.zeros((1,28, 28))\n",
    "\n",
    "    # Create circles with different radius \n",
    "    rr, cc = np.ogrid[:28, :28]\n",
    "    circle = (rr - 13) ** 2 + (cc - 13) ** 2 < random.randint(5,10) ** 2\n",
    "    circle = np.array(circle, np.uint8)\n",
    "    path_to_save = str(train_dir / f'circle/circle{i}.jpg')\n",
    "    cv2.imwrite(path_to_save, circle*255)\n",
    "    \n",
    "    # Create squares with different side length \n",
    "    square = np.zeros((28, 28))\n",
    "    a1 = random.randint(3,10)\n",
    "    a2 = random.randint(13,20)\n",
    "    square[a1:a2, a1:a2] = 1\n",
    "    square = np.array(square, np.uint8)\n",
    "    path_to_save = str(train_dir / f'square/square{i}.jpg')\n",
    "    cv2.imwrite(path_to_save, square*255)\n",
    "    \n",
    "for i in range(450,500):\n",
    "    # Create a 28*28 numpy array\n",
    "    arr = np.zeros((1,28, 28))\n",
    "\n",
    "    # Create circles with different radius \n",
    "    rr, cc = np.ogrid[:28, :28]\n",
    "    circle = (rr - 13) ** 2 + (cc - 13) ** 2 < random.randint(5,10) ** 2\n",
    "    circle = np.array(circle, np.uint8)\n",
    "    path_to_save = str(test_dir / f'circle/circle{i}.jpg')\n",
    "    cv2.imwrite(path_to_save, circle*255)\n",
    "    \n",
    "    # Create squares with different side length \n",
    "    square = np.zeros((28, 28))\n",
    "    a1 = random.randint(3,10)\n",
    "    a2 = random.randint(13,20)\n",
    "    square[a1:a2, a1:a2] = 1\n",
    "    square = np.array(square, np.uint8)\n",
    "    path_to_save = str(test_dir / f'square/square{i}.jpg')\n",
    "    cv2.imwrite(path_to_save, square*255)\n",
    "\n"
   ]
  },
  {
   "cell_type": "code",
   "execution_count": 4,
   "id": "6c4515e2",
   "metadata": {},
   "outputs": [
    {
     "name": "stdout",
     "output_type": "stream",
     "text": [
      "There are 2 directories and 0 images in 'dataset'\n",
      "There are 2 directories and 0 images in 'dataset\\test'\n",
      "There are 0 directories and 50 images in 'dataset\\test\\circle'\n",
      "There are 0 directories and 50 images in 'dataset\\test\\square'\n",
      "There are 2 directories and 0 images in 'dataset\\train'\n",
      "There are 0 directories and 450 images in 'dataset\\train\\circle'\n",
      "There are 0 directories and 450 images in 'dataset\\train\\square'\n"
     ]
    }
   ],
   "source": [
    "# Setup path to data folder\n",
    "data_path = Path(\"dataset/\")\n",
    "import os\n",
    "\n",
    "def walk_through_data(dir_path):\n",
    "    \"\"\"A simple function to walk through the dataset\"\"\"\n",
    "    for dirpath, dirnames, filenames in os.walk(dir_path):\n",
    "        print(f\"There are {len(dirnames)} directories and {len(filenames)} images in '{dirpath}'\")\n",
    "\n",
    "walk_through_data(data_path)"
   ]
  },
  {
   "cell_type": "code",
   "execution_count": 5,
   "id": "70d3c693",
   "metadata": {},
   "outputs": [
    {
     "data": {
      "text/plain": [
       "(WindowsPath('dataset/train'), WindowsPath('dataset/test'))"
      ]
     },
     "execution_count": 5,
     "metadata": {},
     "output_type": "execute_result"
    }
   ],
   "source": [
    "train_dir = data_path / \"train\"\n",
    "test_dir = data_path / \"test\"\n",
    "train_dir, test_dir"
   ]
  },
  {
   "cell_type": "markdown",
   "id": "70786ea7",
   "metadata": {},
   "source": [
    "### Displaying some data samples"
   ]
  },
  {
   "cell_type": "code",
   "execution_count": 6,
   "id": "826e6d82",
   "metadata": {},
   "outputs": [
    {
     "name": "stdout",
     "output_type": "stream",
     "text": [
      "square\n",
      "Random image path: dataset\\train\\square\\square89.jpg\n",
      "Image class: square\n",
      "Image height: 28\n",
      "Image width: 28\n"
     ]
    },
    {
     "data": {
      "image/png": "[encoded data removed]",
      "text/plain": [
       "<PIL.JpegImagePlugin.JpegImageFile image mode=L size=28x28>"
      ]
     },
     "execution_count": 6,
     "metadata": {},
     "output_type": "execute_result"
    }
   ],
   "source": [
    "from PIL import Image\n",
    "\n",
    "#random.seed(42)\n",
    "\n",
    "image_path_list = list(data_path.glob(\"*/*/*.jpg\"))\n",
    "#print(image_path_list)\n",
    "random_image_path = random.choice(image_path_list)\n",
    "\n",
    "image_class = random_image_path.parent.stem\n",
    "print(image_class)\n",
    "\n",
    "img = Image.open(random_image_path)\n",
    "\n",
    "print(f\"Random image path: {random_image_path}\")\n",
    "print(f\"Image class: {image_class}\")\n",
    "print(f\"Image height: {img.height}\") \n",
    "print(f\"Image width: {img.width}\")\n",
    "img"
   ]
  },
  {
   "cell_type": "code",
   "execution_count": 7,
   "id": "c126f394",
   "metadata": {},
   "outputs": [
    {
     "data": {
      "text/plain": [
       "(-0.5, 27.5, 27.5, -0.5)"
      ]
     },
     "execution_count": 7,
     "metadata": {},
     "output_type": "execute_result"
    },
    {
     "data": {
      "image/png": "[encoded data removed]",
      "text/plain": [
       "<Figure size 720x504 with 1 Axes>"
      ]
     },
     "metadata": {
      "needs_background": "light"
     },
     "output_type": "display_data"
    }
   ],
   "source": [
    "np_img = np.array(img)\n",
    "plt.figure(figsize=(10,7))\n",
    "plt.imshow(np_img, cmap='gray')\n",
    "plt.title(f\"Image class: {image_class} | Image shape: {np_img.shape} -> [height, width, color_channels]\")\n",
    "plt.axis(False)"
   ]
  },
  {
   "cell_type": "markdown",
   "id": "218ac3d8",
   "metadata": {},
   "source": [
    "## Loading data using built-in function of PyTorch"
   ]
  },
  {
   "cell_type": "code",
   "execution_count": 8,
   "id": "ba3a5d11",
   "metadata": {},
   "outputs": [],
   "source": [
    "from torch.utils.data import DataLoader\n",
    "from torchvision import datasets, transforms"
   ]
  },
  {
   "cell_type": "code",
   "execution_count": 9,
   "id": "086857e3",
   "metadata": {},
   "outputs": [],
   "source": [
    "# Creating a data transformer to resize and adopt the parameter for feeding the model\n",
    "data_transform = transforms.Compose([\n",
    "    #resize our images\n",
    "    transforms.Resize(size=(28,28)),\n",
    "    #flip the images randomly\n",
    "    transforms.Grayscale(num_output_channels=1),\n",
    "    #transforms.RandomHorizontalFlip(p=0.5),\n",
    "    transforms.transforms.ToTensor()\n",
    "\n",
    "])"
   ]
  },
  {
   "cell_type": "code",
   "execution_count": 10,
   "id": "6b543e2c",
   "metadata": {},
   "outputs": [
    {
     "data": {
      "text/plain": [
       "(Dataset ImageFolder\n",
       "     Number of datapoints: 900\n",
       "     Root location: dataset\\train\n",
       "     StandardTransform\n",
       " Transform: Compose(\n",
       "                Resize(size=(28, 28), interpolation=bilinear, max_size=None, antialias=None)\n",
       "                Grayscale(num_output_channels=1)\n",
       "                ToTensor()\n",
       "            ),\n",
       " Dataset ImageFolder\n",
       "     Number of datapoints: 100\n",
       "     Root location: dataset\\test\n",
       "     StandardTransform\n",
       " Transform: Compose(\n",
       "                Resize(size=(28, 28), interpolation=bilinear, max_size=None, antialias=None)\n",
       "                Grayscale(num_output_channels=1)\n",
       "                ToTensor()\n",
       "            ))"
      ]
     },
     "execution_count": 10,
     "metadata": {},
     "output_type": "execute_result"
    }
   ],
   "source": [
    "from torchvision import datasets\n",
    "train_data = datasets.ImageFolder(root=train_dir, transform=data_transform,\n",
    "                                  target_transform=None)\n",
    "\n",
    "test_data = datasets.ImageFolder(root=test_dir, transform=data_transform)\n",
    "train_data, test_data"
   ]
  },
  {
   "cell_type": "code",
   "execution_count": 11,
   "id": "896c30b0",
   "metadata": {},
   "outputs": [
    {
     "data": {
      "text/plain": [
       "['circle', 'square']"
      ]
     },
     "execution_count": 11,
     "metadata": {},
     "output_type": "execute_result"
    }
   ],
   "source": [
    "class_names = train_data.classes\n",
    "class_names"
   ]
  },
  {
   "cell_type": "code",
   "execution_count": 12,
   "id": "5ef61c3a",
   "metadata": {},
   "outputs": [
    {
     "data": {
      "text/plain": [
       "{'circle': 0, 'square': 1}"
      ]
     },
     "execution_count": 12,
     "metadata": {},
     "output_type": "execute_result"
    }
   ],
   "source": [
    "class_dict = train_data.class_to_idx\n",
    "class_dict"
   ]
  },
  {
   "cell_type": "code",
   "execution_count": 13,
   "id": "b9028551",
   "metadata": {},
   "outputs": [
    {
     "data": {
      "text/plain": [
       "(900, 100)"
      ]
     },
     "execution_count": 13,
     "metadata": {},
     "output_type": "execute_result"
    }
   ],
   "source": [
    "len(train_data), len(test_data)"
   ]
  },
  {
   "cell_type": "code",
   "execution_count": 14,
   "id": "b1d314e5",
   "metadata": {},
   "outputs": [
    {
     "name": "stdout",
     "output_type": "stream",
     "text": [
      "Image tensor:\n",
      "tensor([[[0.0000, 0.0000, 0.0078, 0.0039, 0.0000, 0.0039, 0.0000, 0.0000,\n",
      "          0.0000, 0.0000, 0.0000, 0.0000, 0.0000, 0.0000, 0.0000, 0.0000,\n",
      "          0.0000, 0.0000, 0.0039, 0.0000, 0.0000, 0.0000, 0.0000, 0.0039,\n",
      "          0.0000, 0.0000, 0.0000, 0.0000],\n",
      "         [0.0000, 0.0157, 0.0000, 0.0078, 0.0000, 0.0000, 0.0078, 0.0000,\n",
      "          0.0000, 0.0078, 0.0039, 0.0000, 0.0078, 0.0000, 0.0039, 0.0000,\n",
      "          0.0039, 0.0000, 0.0039, 0.0000, 0.0000, 0.0000, 0.0118, 0.0000,\n",
      "          0.0000, 0.0000, 0.0000, 0.0000],\n",
      "         [0.0000, 0.0000, 0.0000, 0.0039, 0.0000, 0.0039, 0.0078, 0.0039,\n",
      "          0.0000, 0.0000, 0.0039, 0.0039, 0.0000, 0.0078, 0.0000, 0.0118,\n",
      "          0.0000, 0.0157, 0.0000, 0.0000, 0.0039, 0.0000, 0.0000, 0.0000,\n",
      "          0.0000, 0.0000, 0.0000, 0.0000],\n",
      "         [0.0000, 0.0157, 0.0000, 0.0078, 0.0000, 0.0000, 0.0000, 0.0000,\n",
      "          0.0000, 0.0039, 0.0000, 0.0000, 0.0000, 0.0000, 0.0000, 0.0000,\n",
      "          0.0000, 0.0000, 0.0000, 0.0039, 0.0157, 0.0000, 0.0039, 0.0000,\n",
      "          0.0000, 0.0000, 0.0000, 0.0000],\n",
      "         [0.0078, 0.0039, 0.0000, 0.0000, 0.0078, 0.0039, 0.0118, 0.0000,\n",
      "          0.0078, 0.9843, 1.0000, 0.9961, 1.0000, 1.0000, 1.0000, 0.9882,\n",
      "          1.0000, 0.9961, 0.0078, 0.0000, 0.0000, 0.0078, 0.0000, 0.0039,\n",
      "          0.0000, 0.0000, 0.0000, 0.0000],\n",
      "         [0.0000, 0.0000, 0.0118, 0.0039, 0.0000, 0.0000, 0.0000, 0.0000,\n",
      "          1.0000, 1.0000, 0.9961, 1.0000, 0.9961, 0.9922, 0.9882, 1.0000,\n",
      "          0.9922, 1.0000, 1.0000, 0.0000, 0.0000, 0.0039, 0.0118, 0.0039,\n",
      "          0.0000, 0.0000, 0.0000, 0.0000],\n",
      "         [0.0078, 0.0078, 0.0000, 0.0000, 0.0000, 0.0078, 0.9961, 1.0000,\n",
      "          1.0000, 0.9882, 1.0000, 1.0000, 1.0000, 1.0000, 1.0000, 0.9961,\n",
      "          1.0000, 0.9882, 0.9961, 1.0000, 1.0000, 0.0000, 0.0000, 0.0000,\n",
      "          0.0000, 0.0000, 0.0000, 0.0000],\n",
      "         [0.0000, 0.0000, 0.0039, 0.0078, 0.0000, 0.0000, 1.0000, 1.0000,\n",
      "          1.0000, 1.0000, 1.0000, 0.9922, 1.0000, 1.0000, 1.0000, 0.9961,\n",
      "          0.9922, 1.0000, 1.0000, 1.0000, 1.0000, 0.0039, 0.0000, 0.0118,\n",
      "          0.0000, 0.0000, 0.0000, 0.0000],\n",
      "         [0.0000, 0.0039, 0.0000, 0.0039, 0.0000, 1.0000, 1.0000, 0.9961,\n",
      "          1.0000, 1.0000, 1.0000, 1.0000, 1.0000, 1.0000, 1.0000, 1.0000,\n",
      "          1.0000, 0.9922, 1.0000, 0.9922, 1.0000, 1.0000, 0.0000, 0.0039,\n",
      "          0.0000, 0.0000, 0.0000, 0.0000],\n",
      "         [0.0078, 0.0000, 0.0000, 0.0000, 1.0000, 0.9961, 1.0000, 1.0000,\n",
      "          1.0000, 1.0000, 1.0000, 1.0000, 1.0000, 1.0000, 1.0000, 1.0000,\n",
      "          0.9922, 1.0000, 1.0000, 0.9961, 1.0000, 1.0000, 0.9882, 0.0000,\n",
      "          0.0000, 0.0000, 0.0000, 0.0000],\n",
      "         [0.0000, 0.0000, 0.0118, 0.0039, 1.0000, 0.9804, 1.0000, 1.0000,\n",
      "          1.0000, 1.0000, 1.0000, 1.0000, 1.0000, 1.0000, 1.0000, 1.0000,\n",
      "          1.0000, 0.9922, 1.0000, 1.0000, 0.9922, 1.0000, 1.0000, 0.0118,\n",
      "          0.0000, 0.0000, 0.0000, 0.0000],\n",
      "         [0.0000, 0.0000, 0.0000, 0.0000, 1.0000, 1.0000, 0.9882, 0.9922,\n",
      "          1.0000, 1.0000, 1.0000, 1.0000, 1.0000, 1.0000, 1.0000, 1.0000,\n",
      "          1.0000, 0.9922, 1.0000, 1.0000, 1.0000, 1.0000, 1.0000, 0.0000,\n",
      "          0.0000, 0.0000, 0.0000, 0.0000],\n",
      "         [0.0000, 0.0078, 0.0039, 0.0000, 1.0000, 1.0000, 1.0000, 1.0000,\n",
      "          1.0000, 1.0000, 1.0000, 1.0000, 1.0000, 1.0000, 1.0000, 1.0000,\n",
      "          1.0000, 1.0000, 0.9804, 1.0000, 1.0000, 1.0000, 1.0000, 0.0000,\n",
      "          0.0000, 0.0000, 0.0000, 0.0000],\n",
      "         [0.0118, 0.0000, 0.0118, 0.0000, 0.9843, 1.0000, 1.0000, 1.0000,\n",
      "          1.0000, 1.0000, 1.0000, 1.0000, 1.0000, 1.0000, 1.0000, 1.0000,\n",
      "          0.9922, 1.0000, 1.0000, 0.9961, 1.0000, 0.9961, 0.9961, 0.0078,\n",
      "          0.0000, 0.0000, 0.0000, 0.0000],\n",
      "         [0.0000, 0.0078, 0.0000, 0.0118, 1.0000, 0.9922, 1.0000, 0.9961,\n",
      "          1.0000, 1.0000, 1.0000, 1.0000, 1.0000, 1.0000, 1.0000, 1.0000,\n",
      "          1.0000, 1.0000, 0.9961, 0.9922, 0.9922, 1.0000, 1.0000, 0.0000,\n",
      "          0.0000, 0.0000, 0.0000, 0.0000],\n",
      "         [0.0000, 0.0078, 0.0000, 0.0000, 1.0000, 1.0000, 0.9922, 1.0000,\n",
      "          1.0000, 1.0000, 1.0000, 1.0000, 1.0000, 1.0000, 1.0000, 1.0000,\n",
      "          0.9961, 1.0000, 1.0000, 0.9882, 1.0000, 0.9961, 1.0000, 0.0000,\n",
      "          0.0000, 0.0000, 0.0000, 0.0000],\n",
      "         [0.0118, 0.0000, 0.0000, 0.0039, 1.0000, 0.9882, 1.0000, 0.9961,\n",
      "          1.0000, 0.9922, 1.0000, 1.0000, 1.0000, 0.9961, 1.0000, 1.0000,\n",
      "          1.0000, 0.9961, 1.0000, 0.9961, 1.0000, 0.9961, 0.9961, 0.0039,\n",
      "          0.0000, 0.0000, 0.0000, 0.0000],\n",
      "         [0.0000, 0.0000, 0.0118, 0.0000, 0.9922, 1.0000, 0.9882, 1.0000,\n",
      "          1.0000, 1.0000, 0.9882, 0.9961, 1.0000, 1.0000, 1.0000, 1.0000,\n",
      "          0.9922, 1.0000, 0.9961, 0.9961, 0.9922, 1.0000, 0.9961, 0.0000,\n",
      "          0.0000, 0.0000, 0.0000, 0.0000],\n",
      "         [0.0078, 0.0000, 0.0000, 0.0000, 0.0039, 0.9961, 1.0000, 1.0000,\n",
      "          1.0000, 0.9922, 1.0000, 1.0000, 0.9804, 0.9961, 1.0000, 1.0000,\n",
      "          0.9961, 0.9961, 0.9961, 0.9961, 1.0000, 1.0000, 0.0000, 0.0078,\n",
      "          0.0000, 0.0000, 0.0000, 0.0000],\n",
      "         [0.0000, 0.0000, 0.0000, 0.0000, 0.0078, 0.0000, 1.0000, 0.9922,\n",
      "          0.9961, 0.9961, 1.0000, 1.0000, 1.0000, 0.9961, 1.0000, 0.9922,\n",
      "          1.0000, 0.9922, 1.0000, 1.0000, 0.9922, 0.0000, 0.0039, 0.0000,\n",
      "          0.0000, 0.0000, 0.0000, 0.0000],\n",
      "         [0.0157, 0.0000, 0.0000, 0.0196, 0.0000, 0.0000, 1.0000, 0.9922,\n",
      "          0.9961, 1.0000, 0.9882, 0.9922, 1.0000, 1.0000, 0.9843, 1.0000,\n",
      "          1.0000, 1.0000, 0.9961, 0.9961, 0.9961, 0.0157, 0.0000, 0.0000,\n",
      "          0.0000, 0.0000, 0.0000, 0.0000],\n",
      "         [0.0000, 0.0000, 0.0118, 0.0000, 0.0000, 0.0039, 0.0000, 0.0078,\n",
      "          1.0000, 1.0000, 1.0000, 1.0000, 1.0000, 0.9961, 1.0000, 0.9922,\n",
      "          0.9843, 1.0000, 1.0000, 0.0039, 0.0000, 0.0000, 0.0000, 0.0078,\n",
      "          0.0000, 0.0000, 0.0000, 0.0000],\n",
      "         [0.0078, 0.0000, 0.0000, 0.0000, 0.0000, 0.0078, 0.0000, 0.0000,\n",
      "          0.0000, 0.9882, 1.0000, 0.9922, 0.9961, 1.0000, 1.0000, 0.9922,\n",
      "          1.0000, 0.9922, 0.0000, 0.0000, 0.0000, 0.0039, 0.0000, 0.0000,\n",
      "          0.0000, 0.0000, 0.0000, 0.0000],\n",
      "         [0.0000, 0.0000, 0.0118, 0.0000, 0.0039, 0.0000, 0.0000, 0.0039,\n",
      "          0.0039, 0.0000, 0.0039, 0.0039, 0.0000, 0.0078, 0.0000, 0.0118,\n",
      "          0.0078, 0.0000, 0.0078, 0.0000, 0.0000, 0.0000, 0.0000, 0.0078,\n",
      "          0.0000, 0.0000, 0.0000, 0.0000],\n",
      "         [0.0000, 0.0000, 0.0000, 0.0000, 0.0000, 0.0000, 0.0000, 0.0000,\n",
      "          0.0000, 0.0000, 0.0000, 0.0000, 0.0000, 0.0000, 0.0000, 0.0000,\n",
      "          0.0000, 0.0000, 0.0000, 0.0000, 0.0000, 0.0000, 0.0000, 0.0000,\n",
      "          0.0000, 0.0000, 0.0000, 0.0000],\n",
      "         [0.0000, 0.0000, 0.0000, 0.0000, 0.0000, 0.0000, 0.0000, 0.0000,\n",
      "          0.0000, 0.0000, 0.0000, 0.0000, 0.0000, 0.0000, 0.0000, 0.0000,\n",
      "          0.0000, 0.0000, 0.0000, 0.0000, 0.0000, 0.0000, 0.0000, 0.0000,\n",
      "          0.0000, 0.0000, 0.0000, 0.0000],\n",
      "         [0.0000, 0.0000, 0.0000, 0.0000, 0.0000, 0.0000, 0.0000, 0.0000,\n",
      "          0.0000, 0.0000, 0.0000, 0.0000, 0.0000, 0.0000, 0.0000, 0.0000,\n",
      "          0.0000, 0.0000, 0.0000, 0.0000, 0.0000, 0.0000, 0.0000, 0.0000,\n",
      "          0.0000, 0.0000, 0.0000, 0.0000],\n",
      "         [0.0000, 0.0000, 0.0000, 0.0000, 0.0000, 0.0000, 0.0000, 0.0000,\n",
      "          0.0000, 0.0000, 0.0000, 0.0000, 0.0000, 0.0000, 0.0000, 0.0000,\n",
      "          0.0000, 0.0000, 0.0000, 0.0000, 0.0000, 0.0000, 0.0000, 0.0000,\n",
      "          0.0000, 0.0000, 0.0000, 0.0000]]])\n",
      "Image shape: torch.Size([1, 28, 28])\n",
      "Image datatype: torch.float32\n",
      "Image label: 0\n",
      "Label datatype: <class 'int'>\n"
     ]
    }
   ],
   "source": [
    "img, label = train_data[0][0], train_data[0][1]\n",
    "print(f\"Image tensor:\\n{img}\")\n",
    "print(f\"Image shape: {img.shape}\")\n",
    "print(f\"Image datatype: {img.dtype}\")\n",
    "print(f\"Image label: {label}\")\n",
    "print(f\"Label datatype: {type(label)}\")"
   ]
  },
  {
   "cell_type": "code",
   "execution_count": 15,
   "id": "0337acdc",
   "metadata": {},
   "outputs": [
    {
     "data": {
      "text/plain": [
       "(-0.5, 27.5, 27.5, -0.5)"
      ]
     },
     "execution_count": 15,
     "metadata": {},
     "output_type": "execute_result"
    },
    {
     "data": {
      "image/png": "[encoded data removed]",
      "text/plain": [
       "<Figure size 720x504 with 1 Axes>"
      ]
     },
     "metadata": {
      "needs_background": "light"
     },
     "output_type": "display_data"
    }
   ],
   "source": [
    "img_permute = img.permute(1,2,0)\n",
    "plt.figure(figsize=(10,7))\n",
    "plt.imshow(img_permute, cmap=\"gray\")\n",
    "plt.title(f\"{class_names[label]}\")\n",
    "plt.axis(False)"
   ]
  },
  {
   "cell_type": "code",
   "execution_count": 16,
   "id": "653f06b8",
   "metadata": {},
   "outputs": [
    {
     "data": {
      "text/plain": [
       "4"
      ]
     },
     "execution_count": 16,
     "metadata": {},
     "output_type": "execute_result"
    }
   ],
   "source": [
    "import os\n",
    "os.cpu_count()"
   ]
  },
  {
   "cell_type": "markdown",
   "id": "79e6262d",
   "metadata": {},
   "source": [
    "### Creating dataloader with specific batch size to feed the Model"
   ]
  },
  {
   "cell_type": "code",
   "execution_count": 17,
   "id": "51ade26e",
   "metadata": {},
   "outputs": [],
   "source": [
    "from torch.utils.data import DataLoader\n",
    "\n",
    "BATCH_SIZE = 8\n",
    "train_dataloader = DataLoader(dataset=train_data, batch_size=BATCH_SIZE,\n",
    "                             num_workers=2, shuffle=True)\n",
    "\n",
    "test_dataloader = DataLoader(dataset=test_data, batch_size=BATCH_SIZE,\n",
    "                             num_workers=2, shuffle=False)"
   ]
  },
  {
   "cell_type": "code",
   "execution_count": 18,
   "id": "6b5882c3",
   "metadata": {},
   "outputs": [
    {
     "data": {
      "text/plain": [
       "(113, 13)"
      ]
     },
     "execution_count": 18,
     "metadata": {},
     "output_type": "execute_result"
    }
   ],
   "source": [
    "len(train_dataloader), len(test_dataloader)"
   ]
  },
  {
   "cell_type": "code",
   "execution_count": 19,
   "id": "8f483a49",
   "metadata": {},
   "outputs": [
    {
     "data": {
      "text/plain": [
       "(torch.Size([8, 1, 28, 28]), torch.Size([8]))"
      ]
     },
     "execution_count": 19,
     "metadata": {},
     "output_type": "execute_result"
    }
   ],
   "source": [
    "img,label = next(iter(train_dataloader))\n",
    "img.shape, label.shape"
   ]
  },
  {
   "cell_type": "markdown",
   "id": "bda5d555",
   "metadata": {},
   "source": [
    "## Create a Model. CNN2d(32), CNN2d(64),Linear(128), Linear(2)"
   ]
  },
  {
   "cell_type": "code",
   "execution_count": 20,
   "id": "abc093c5",
   "metadata": {},
   "outputs": [],
   "source": [
    "from torch import nn\n",
    "class Model_class(nn.Module):\n",
    "    def __init__(self, input_shape:int, hidden_unit_layer1:int,hidden_unit_layer2:int,output_shape:int):\n",
    "        super().__init__()\n",
    "        self.convblock1=nn.Sequential(\n",
    "            nn.Conv2d(in_channels=input_shape,\n",
    "                     out_channels=hidden_unit_layer1,\n",
    "                     kernel_size=3,\n",
    "                     stride=1,\n",
    "                     padding=0),\n",
    "            nn.ReLU(),\n",
    "            nn.Conv2d(in_channels=hidden_unit_layer1,\n",
    "                     out_channels=hidden_unit_layer1,\n",
    "                     kernel_size=3,\n",
    "                     stride=1,\n",
    "                     padding=0),\n",
    "            nn.ReLU(),\n",
    "            nn.MaxPool2d(kernel_size=2,\n",
    "                        stride=2)\n",
    "        )\n",
    "        self.convblock2 = nn.Sequential(\n",
    "            nn.Conv2d(hidden_unit_layer1,\n",
    "                     hidden_unit_layer2,\n",
    "                     3,\n",
    "                     padding=0),\n",
    "            nn.ReLU(),\n",
    "            nn.Conv2d(hidden_unit_layer2,\n",
    "                     hidden_unit_layer2,\n",
    "                     3,\n",
    "                     padding=0),\n",
    "            nn.ReLU(),\n",
    "            nn.MaxPool2d(2)\n",
    "        )\n",
    "        self.classifier = nn.Sequential(\n",
    "            nn.Flatten(),\n",
    "            nn.Linear(in_features=hidden_unit_layer2*4*4,\n",
    "                      out_features=128),\n",
    "            nn.ReLU(),\n",
    "            nn.Linear(in_features=128,\n",
    "                      out_features=2)\n",
    "        )\n",
    "    def forward(self, x:torch.Tensor):\n",
    "        x = self.convblock1(x)\n",
    "        #print(x.shape)\n",
    "        x = self.convblock2(x)\n",
    "        #print(x.shape)\n",
    "        x = self.classifier(x)\n",
    "        #print(x.shape)\n",
    "        return x"
   ]
  },
  {
   "cell_type": "code",
   "execution_count": 21,
   "id": "130bacac",
   "metadata": {},
   "outputs": [],
   "source": [
    "# Creating the Model from the created class\n",
    "model_0 = Model_class(input_shape=1,hidden_unit_layer1=32, hidden_unit_layer2=64, output_shape=2)\n"
   ]
  },
  {
   "cell_type": "code",
   "execution_count": 23,
   "id": "872d7c7c",
   "metadata": {},
   "outputs": [
    {
     "data": {
      "text/plain": [
       "tensor([[0.0531, 0.0135],\n",
       "        [0.0551, 0.0136],\n",
       "        [0.0536, 0.0117],\n",
       "        [0.0563, 0.0189],\n",
       "        [0.0529, 0.0112],\n",
       "        [0.0551, 0.0136],\n",
       "        [0.0561, 0.0171],\n",
       "        [0.0544, 0.0165]])"
      ]
     },
     "execution_count": 23,
     "metadata": {},
     "output_type": "execute_result"
    }
   ],
   "source": [
    "#testing if the model accept the created data by passing one batch\n",
    "with torch.inference_mode():\n",
    "    y = model_0(img)\n",
    "y"
   ]
  },
  {
   "cell_type": "code",
   "execution_count": null,
   "id": "caff4151",
   "metadata": {},
   "outputs": [],
   "source": []
  },
  {
   "cell_type": "code",
   "execution_count": 24,
   "id": "4d2f34c2",
   "metadata": {},
   "outputs": [],
   "source": [
    "#setup optimizer and loss function\n",
    "loss_fn = nn.CrossEntropyLoss()\n",
    "optimizer = torch.optim.SGD(params=model_0.parameters(), lr=0.1)"
   ]
  },
  {
   "cell_type": "code",
   "execution_count": 25,
   "id": "7b4b64ad",
   "metadata": {},
   "outputs": [],
   "source": [
    "#defining functions for train and test steps\n",
    "def train_step(model: torch.nn.Module, \n",
    "               dataloader: torch.utils.data.DataLoader, \n",
    "               loss_fn: torch.nn.Module, \n",
    "               optimizer: torch.optim.Optimizer):\n",
    "    # Put model in train mode\n",
    "    model.train()\n",
    "    \n",
    "    # Setup train loss and train accuracy values\n",
    "    train_loss, train_acc = 0, 0\n",
    "    \n",
    "    # Loop through data loader data batches\n",
    "    for batch, (X, y) in enumerate(dataloader):\n",
    "        # Send data to target device\n",
    "        X, y = X.to(device), y.to(device)\n",
    "\n",
    "        # 1. Forward pass\n",
    "        y_pred = model(X)\n",
    "\n",
    "        # 2. Calculate  and accumulate loss\n",
    "        loss = loss_fn(y_pred, y)\n",
    "        train_loss += loss.item() \n",
    "\n",
    "        # 3. Optimizer zero grad\n",
    "        optimizer.zero_grad()\n",
    "\n",
    "        # 4. Loss backward\n",
    "        loss.backward()\n",
    "\n",
    "        # 5. Optimizer step\n",
    "        optimizer.step()\n",
    "\n",
    "        # Calculate and accumulate accuracy metric across all batches\n",
    "        y_pred_class = torch.argmax(torch.softmax(y_pred, dim=1), dim=1)\n",
    "        train_acc += (y_pred_class == y).sum().item()/len(y_pred)\n",
    "\n",
    "    # Adjust metrics to get average loss and accuracy per batch \n",
    "    train_loss = train_loss / len(dataloader)\n",
    "    train_acc = train_acc / len(dataloader)\n",
    "    print(f\"train loss: {train_loss} | train acc: {train_acc}\")\n",
    "    return train_loss, train_acc"
   ]
  },
  {
   "cell_type": "code",
   "execution_count": 26,
   "id": "15709d1e",
   "metadata": {},
   "outputs": [],
   "source": [
    "def test_step(model: torch.nn.Module, \n",
    "              dataloader: torch.utils.data.DataLoader, \n",
    "              loss_fn: torch.nn.Module):\n",
    "    # Put model in eval mode\n",
    "    model.eval() \n",
    "    \n",
    "    # Setup test loss and test accuracy values\n",
    "    test_loss, test_acc = 0, 0\n",
    "    \n",
    "    # Turn on inference context manager\n",
    "    with torch.inference_mode():\n",
    "        # Loop through DataLoader batches\n",
    "        for batch, (X, y) in enumerate(dataloader):\n",
    "            # Send data to target device\n",
    "            X, y = X.to(device), y.to(device)\n",
    "    \n",
    "            # 1. Forward pass\n",
    "            test_pred_logits = model(X)\n",
    "\n",
    "            # 2. Calculate and accumulate loss\n",
    "            loss = loss_fn(test_pred_logits, y)\n",
    "            test_loss += loss.item()\n",
    "            \n",
    "            # Calculate and accumulate accuracy\n",
    "            test_pred_labels = test_pred_logits.argmax(dim=1)\n",
    "            test_acc += ((test_pred_labels == y).sum().item()/len(test_pred_labels))\n",
    "            \n",
    "    # Adjust metrics to get average loss and accuracy per batch \n",
    "    test_loss = test_loss / len(dataloader)\n",
    "    test_acc = test_acc / len(dataloader)\n",
    "    print(f\"test loss: {test_loss} | test acc: {test_acc}\")\n",
    "    return test_loss, test_acc"
   ]
  },
  {
   "cell_type": "code",
   "execution_count": 28,
   "id": "7cde8c7e",
   "metadata": {},
   "outputs": [
    {
     "data": {
      "application/vnd.jupyter.widget-view+json": {
       "model_id": "6e4eca4e019b4bd7a98d64d8caef3f91",
       "version_major": 2,
       "version_minor": 0
      },
      "text/plain": [
       "  0%|          | 0/5 [00:00<?, ?it/s]"
      ]
     },
     "metadata": {},
     "output_type": "display_data"
    },
    {
     "name": "stdout",
     "output_type": "stream",
     "text": [
      "Epoch: 0\n",
      "---------\n",
      "train loss: 0.6818095461457176 | train acc: 0.577433628318584\n",
      "test loss: 0.6405899387139541 | test acc: 0.5192307692307693\n",
      "Epoch: 1\n",
      "---------\n",
      "train loss: 0.48962236096901174 | train acc: 0.7621681415929203\n",
      "test loss: 0.3045770333936581 | test acc: 0.9230769230769231\n",
      "Epoch: 2\n",
      "---------\n",
      "train loss: 0.36684452981347854 | train acc: 0.838495575221239\n",
      "test loss: 0.37622472643852234 | test acc: 0.8173076923076923\n",
      "Epoch: 3\n",
      "---------\n",
      "train loss: 0.19656424055007837 | train acc: 0.918141592920354\n",
      "test loss: 0.007095848022100444 | test acc: 1.0\n",
      "Epoch: 4\n",
      "---------\n",
      "train loss: 0.002642973824855547 | train acc: 1.0\n",
      "test loss: 0.0007832405346842 | test acc: 1.0\n"
     ]
    }
   ],
   "source": [
    "from tqdm.auto import tqdm\n",
    "torch.manual_seed(42)\n",
    "\n",
    "device = \"cuda\" if torch.cuda.is_available() else \"cpu\"\n",
    "# Train and test model \n",
    "epochs = 5\n",
    "for epoch in tqdm(range(epochs)):\n",
    "    print(f\"Epoch: {epoch}\\n---------\")\n",
    "    train_step(dataloader=train_dataloader, \n",
    "        model=model_0, \n",
    "        loss_fn=loss_fn,\n",
    "        optimizer=optimizer,\n",
    "    )\n",
    "    test_step(dataloader=test_dataloader,\n",
    "        model=model_0,\n",
    "        loss_fn=loss_fn,\n",
    "    )\n",
    "\n"
   ]
  },
  {
   "cell_type": "markdown",
   "id": "bb74909d",
   "metadata": {},
   "source": [
    "### Make prediction and create a confusion matrix"
   ]
  },
  {
   "cell_type": "code",
   "execution_count": 29,
   "id": "f63c7a25",
   "metadata": {},
   "outputs": [],
   "source": [
    "def make_predictions(model: torch.nn.Module, data: list, device: torch.device = device):\n",
    "    pred_probs = []\n",
    "    model.eval()\n",
    "    with torch.inference_mode():\n",
    "        for sample in data:\n",
    "            # Prepare sample\n",
    "            sample = torch.unsqueeze(sample, dim=0).to(device) # Add an extra dimension and send sample to device\n",
    "\n",
    "            # Forward pass (model outputs raw logit)\n",
    "            pred_logit = model(sample)\n",
    "\n",
    "            # Get prediction probability (logit -> prediction probability)\n",
    "            pred_prob = torch.softmax(pred_logit.squeeze(), dim=0) # note: perform softmax on the \"logits\" dimension, not \"batch\" dimension (in this case we have a batch size of 1, so can perform on dim=0)\n",
    "\n",
    "            # Get pred_prob off GPU for further calculations\n",
    "            pred_probs.append(pred_prob.cpu())\n",
    "            \n",
    "    # Stack the pred_probs to turn list into a tensor\n",
    "    return torch.stack(pred_probs)"
   ]
  },
  {
   "cell_type": "code",
   "execution_count": 30,
   "id": "d1738404",
   "metadata": {},
   "outputs": [
    {
     "name": "stdout",
     "output_type": "stream",
     "text": [
      "Test sample image shape: torch.Size([1, 28, 28])\n",
      "Test sample label: 1 (square)\n"
     ]
    }
   ],
   "source": [
    "random.seed(42)\n",
    "test_samples = []\n",
    "test_labels = []\n",
    "for sample, label in random.sample(list(test_data), k=9):\n",
    "    test_samples.append(sample)\n",
    "    test_labels.append(label)\n",
    "\n",
    "# View the first test sample shape and label\n",
    "print(f\"Test sample image shape: {test_samples[0].shape}\\nTest sample label: {test_labels[0]} ({class_names[test_labels[0]]})\")"
   ]
  },
  {
   "cell_type": "code",
   "execution_count": 31,
   "id": "3c075c5f",
   "metadata": {},
   "outputs": [
    {
     "data": {
      "text/plain": [
       "tensor([[1.7198e-11, 1.0000e+00],\n",
       "        [9.9998e-01, 2.1943e-05]])"
      ]
     },
     "execution_count": 31,
     "metadata": {},
     "output_type": "execute_result"
    }
   ],
   "source": [
    "pred_probs= make_predictions(model=model_0, \n",
    "                             data=test_samples)\n",
    "\n",
    "# View first two prediction probabilities list\n",
    "pred_probs[:2]"
   ]
  },
  {
   "cell_type": "code",
   "execution_count": 32,
   "id": "d03e96e1",
   "metadata": {},
   "outputs": [
    {
     "data": {
      "text/plain": [
       "tensor([1, 0, 0, 1, 0, 0, 0, 0, 0])"
      ]
     },
     "execution_count": 32,
     "metadata": {},
     "output_type": "execute_result"
    }
   ],
   "source": [
    "pred_classes = pred_probs.argmax(dim=1)\n",
    "pred_classes"
   ]
  },
  {
   "cell_type": "code",
   "execution_count": 33,
   "id": "d38f6f52",
   "metadata": {},
   "outputs": [
    {
     "data": {
      "image/png": "[encoded data removed]",
      "text/plain": [
       "<Figure size 648x648 with 9 Axes>"
      ]
     },
     "metadata": {
      "needs_background": "light"
     },
     "output_type": "display_data"
    }
   ],
   "source": [
    "# Plot predictions\n",
    "plt.figure(figsize=(9, 9))\n",
    "nrows = 3\n",
    "ncols = 3\n",
    "for i, sample in enumerate(test_samples):\n",
    "    # Create a subplot\n",
    "    plt.subplot(nrows, ncols, i+1)\n",
    "\n",
    "    # Plot the target image\n",
    "    plt.imshow(sample.squeeze(), cmap=\"gray\")\n",
    "\n",
    "    # Find the prediction label (in text form, e.g. \"Sandal\")\n",
    "    pred_label = class_names[pred_classes[i]]\n",
    "\n",
    "    # Get the truth label (in text form, e.g. \"T-shirt\")\n",
    "    truth_label = class_names[test_labels[i]] \n",
    "\n",
    "    # Create the title text of the plot\n",
    "    title_text = f\"Pred: {pred_label} | Truth: {truth_label}\"\n",
    "\n",
    "      # Check for equality and change title colour accordingly\n",
    "    if pred_label == truth_label:\n",
    "      plt.title(title_text, fontsize=10, c=\"g\") # green text if correct\n",
    "    else:\n",
    "      plt.title(title_text, fontsize=10, c=\"r\") # red text if wrong\n",
    "    plt.axis(False);"
   ]
  },
  {
   "cell_type": "code",
   "execution_count": 36,
   "id": "176a72e1",
   "metadata": {},
   "outputs": [
    {
     "data": {
      "application/vnd.jupyter.widget-view+json": {
       "model_id": "fb2334a5d95e44f987db0383521878ea",
       "version_major": 2,
       "version_minor": 0
      },
      "text/plain": [
       "Making predictions:   0%|          | 0/13 [00:00<?, ?it/s]"
      ]
     },
     "metadata": {},
     "output_type": "display_data"
    }
   ],
   "source": [
    "# 1. Make predictions with trained model\n",
    "y_preds = []\n",
    "model_0.eval()\n",
    "with torch.inference_mode():\n",
    "  for X, y in tqdm(test_dataloader, desc=\"Making predictions\"):\n",
    "    # Send data and targets to target device\n",
    "    X, y = X.to(device), y.to(device)\n",
    "    # Do the forward pass\n",
    "    y_logit = model_0(X)\n",
    "    # Turn predictions from logits -> prediction probabilities -> predictions labels\n",
    "    y_pred = torch.softmax(y_logit, dim=1).argmax(dim=1) # note: perform softmax on the \"logits\" dimension, not \"batch\" dimension (in this case we have a batch size of 32, so can perform on dim=1)\n",
    "    # Put predictions on CPU for evaluation\n",
    "    y_preds.append(y_pred.cpu())\n",
    "# Concatenate list of predictions into a tensor\n",
    "y_pred_tensor = torch.cat(y_preds)"
   ]
  },
  {
   "cell_type": "code",
   "execution_count": 50,
   "id": "d97a6ab5",
   "metadata": {},
   "outputs": [
    {
     "data": {
      "text/plain": [
       "<sklearn.metrics._plot.confusion_matrix.ConfusionMatrixDisplay at 0x224eb2d4310>"
      ]
     },
     "execution_count": 50,
     "metadata": {},
     "output_type": "execute_result"
    },
    {
     "data": {
      "text/plain": [
       "<Figure size 720x720 with 0 Axes>"
      ]
     },
     "metadata": {},
     "output_type": "display_data"
    },
    {
     "data": {
      "image/png": "[encoded data removed]",
      "text/plain": [
       "<Figure size 432x288 with 2 Axes>"
      ]
     },
     "metadata": {
      "needs_background": "light"
     },
     "output_type": "display_data"
    }
   ],
   "source": [
    "from sklearn.metrics import confusion_matrix, ConfusionMatrixDisplay\n",
    "conf_mat = confusion_matrix(torch.Tensor(test_data.targets),\n",
    "                           y_pred_tensor)\n",
    "\n",
    "ConfusionMatrixDisplay(conf_mat).plot()\n"
   ]
  },
  {
   "cell_type": "code",
   "execution_count": 46,
   "id": "c19ea2f5",
   "metadata": {},
   "outputs": [
    {
     "data": {
      "text/plain": [
       "array([[50,  0],\n",
       "       [ 0, 50]], dtype=int64)"
      ]
     },
     "execution_count": 46,
     "metadata": {},
     "output_type": "execute_result"
    }
   ],
   "source": []
  },
  {
   "cell_type": "code",
   "execution_count": null,
   "id": "1e8e36d6",
   "metadata": {},
   "outputs": [],
   "source": []
  }
 ],
 "metadata": {
  "kernelspec": {
   "display_name": "Python 3 (ipykernel)",
   "language": "python",
   "name": "python3"
  },
  "language_info": {
   "codemirror_mode": {
    "name": "ipython",
    "version": 3
   },
   "file_extension": ".py",
   "mimetype": "text/x-python",
   "name": "python",
   "nbconvert_exporter": "python",
   "pygments_lexer": "ipython3",
   "version": "3.9.6"
  }
 },
 "nbformat": 4,
 "nbformat_minor": 5
}
